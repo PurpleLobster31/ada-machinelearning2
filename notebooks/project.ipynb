{
 "cells": [
  {
   "cell_type": "markdown",
   "metadata": {
    "vscode": {
     "languageId": "plaintext"
    }
   },
   "source": [
    "## Pré-Processamento"
   ]
  },
  {
   "cell_type": "code",
   "execution_count": 1,
   "metadata": {},
   "outputs": [],
   "source": [
    "from sklearn.compose import ColumnTransformer\n",
    "from sklearn.pipeline import Pipeline\n",
    "from sklearn.impute import SimpleImputer\n",
    "from sklearn.preprocessing import StandardScaler, OneHotEncoder\n",
    "import pandas as pd\n",
    "import numpy as np"
   ]
  },
  {
   "cell_type": "code",
   "execution_count": 2,
   "metadata": {},
   "outputs": [],
   "source": [
    "raw_data = pd.read_csv(r'..\\data\\dataset.csv')"
   ]
  },
  {
   "cell_type": "code",
   "execution_count": 3,
   "metadata": {},
   "outputs": [
    {
     "data": {
      "text/plain": [
       "['Curricular units 1st sem (credited)',\n",
       " 'Curricular units 1st sem (enrolled)',\n",
       " 'Curricular units 1st sem (evaluations)',\n",
       " 'Curricular units 1st sem (approved)',\n",
       " 'Curricular units 1st sem (grade)',\n",
       " 'Curricular units 1st sem (without evaluations)',\n",
       " 'Curricular units 2nd sem (credited)',\n",
       " 'Curricular units 2nd sem (enrolled)',\n",
       " 'Curricular units 2nd sem (evaluations)',\n",
       " 'Curricular units 2nd sem (approved)',\n",
       " 'Curricular units 2nd sem (grade)',\n",
       " 'Curricular units 2nd sem (without evaluations)']"
      ]
     },
     "execution_count": 3,
     "metadata": {},
     "output_type": "execute_result"
    }
   ],
   "source": [
    "colunas_drop = [coluna for coluna in raw_data.columns if 'Curricular units' in coluna]\n",
    "colunas_drop"
   ]
  },
  {
   "cell_type": "code",
   "execution_count": 4,
   "metadata": {},
   "outputs": [],
   "source": [
    "colunas_categoricas = ['Marital status', 'Application mode', 'Course', 'Daytime/evening attendance',\n",
    "                        'Previous qualification', 'Nacionality', \"Mother's qualification\",\n",
    "                        \"Father's qualification\", \"Mother's occupation\", \"Father's occupation\",\n",
    "                        'Displaced', 'Educational special needs', 'Debtor', 'Tuition fees up to date',\n",
    "                        'Gender', 'Scholarship holder', 'International']\n",
    "\n",
    "colunas_numericas = ['Age at enrollment', 'Application order']"
   ]
  },
  {
   "cell_type": "code",
   "execution_count": 5,
   "metadata": {},
   "outputs": [],
   "source": [
    "numerical_transformer = Pipeline(steps=[\n",
    "    ('imputer', SimpleImputer(strategy='mean')),\n",
    "    ('scaler', StandardScaler()) \n",
    "])"
   ]
  },
  {
   "cell_type": "code",
   "execution_count": 6,
   "metadata": {},
   "outputs": [],
   "source": [
    "categorical_transformer = Pipeline(steps=[\n",
    "    ('imputer', SimpleImputer(strategy='most_frequent')),  # Imputing missing values with the most frequent category\n",
    "    ('onehot', OneHotEncoder(handle_unknown='ignore'))  # One-hot encoding\n",
    "])"
   ]
  },
  {
   "cell_type": "code",
   "execution_count": 7,
   "metadata": {},
   "outputs": [],
   "source": [
    "preprocessor = ColumnTransformer(\n",
    "    transformers=[\n",
    "        ('num', numerical_transformer, colunas_numericas),\n",
    "        ('cat', categorical_transformer, colunas_categoricas)\n",
    "    ])\n"
   ]
  },
  {
   "cell_type": "code",
   "execution_count": 8,
   "metadata": {},
   "outputs": [],
   "source": [
    "dados_refinados = raw_data.drop(columns=colunas_drop)"
   ]
  },
  {
   "cell_type": "code",
   "execution_count": 9,
   "metadata": {},
   "outputs": [],
   "source": [
    "X = dados_refinados.drop('Target', axis=1)\n",
    "y = dados_refinados['Target']"
   ]
  },
  {
   "cell_type": "code",
   "execution_count": 10,
   "metadata": {},
   "outputs": [],
   "source": [
    "from sklearn.model_selection import train_test_split\n",
    "\n",
    "X_train, X_test, y_train, y_test = train_test_split(X, y, test_size=0.2, random_state=0)\n",
    "\n",
    "X_train_preparado = preprocessor.fit_transform(X_train)\n",
    "X_test_preparado = preprocessor.transform(X_test)"
   ]
  },
  {
   "cell_type": "code",
   "execution_count": 11,
   "metadata": {},
   "outputs": [
    {
     "name": "stdout",
     "output_type": "stream",
     "text": [
      "(3539, 229) (885, 229)\n"
     ]
    }
   ],
   "source": [
    "print(X_train_preparado.shape, X_test_preparado.shape)"
   ]
  },
  {
   "cell_type": "markdown",
   "metadata": {},
   "source": [
    "## Modelos Supervisionados"
   ]
  },
  {
   "cell_type": "markdown",
   "metadata": {
    "vscode": {
     "languageId": "plaintext"
    }
   },
   "source": [
    "### SVM"
   ]
  },
  {
   "cell_type": "code",
   "execution_count": 12,
   "metadata": {},
   "outputs": [],
   "source": [
    "from sklearn.svm import SVC\n",
    "from sklearn.model_selection import GridSearchCV\n",
    "\n",
    "svm_parametros_grid = {\n",
    "    'C': [0.1, 1, 10],\n",
    "    'kernel': ['linear']\n",
    "}\n",
    "\n",
    "svm_grid_search = GridSearchCV(SVC(random_state=0), svm_parametros_grid, cv=3, scoring='accuracy')\n",
    "svm_grid_search.fit(X_train_preparado, y_train)\n",
    "\n",
    "svm_params = svm_grid_search.best_params_\n",
    "svm_score = svm_grid_search.best_score_"
   ]
  },
  {
   "cell_type": "code",
   "execution_count": 14,
   "metadata": {},
   "outputs": [
    {
     "name": "stdout",
     "output_type": "stream",
     "text": [
      "Acurácia para a SVM: 0.65\n"
     ]
    }
   ],
   "source": [
    "from sklearn.metrics import accuracy_score\n",
    "\n",
    "svm_model = SVC(C=svm_params['C'], kernel=svm_params['kernel'])\n",
    "\n",
    "svm_model.fit(X_train_preparado, y_train)\n",
    "\n",
    "svm_predictions = svm_model.predict(X_test_preparado)\n",
    "\n",
    "svm_test_accuracy  = accuracy_score(y_test, svm_predictions)\n",
    "\n",
    "print(f\"Acurácia para a SVM: {svm_test_accuracy:.2f}\")"
   ]
  },
  {
   "cell_type": "markdown",
   "metadata": {},
   "source": [
    "### Random Forest (Ensemble)"
   ]
  },
  {
   "cell_type": "code",
   "execution_count": 18,
   "metadata": {},
   "outputs": [
    {
     "name": "stderr",
     "output_type": "stream",
     "text": [
      "c:\\Users\\matme\\AppData\\Local\\Programs\\Python\\Python311\\Lib\\site-packages\\sklearn\\model_selection\\_validation.py:547: FitFailedWarning: \n",
      "9 fits failed out of a total of 18.\n",
      "The score on these train-test partitions for these parameters will be set to nan.\n",
      "If these failures are not expected, you can try to debug them by setting error_score='raise'.\n",
      "\n",
      "Below are more details about the failures:\n",
      "--------------------------------------------------------------------------------\n",
      "9 fits failed with the following error:\n",
      "Traceback (most recent call last):\n",
      "  File \"c:\\Users\\matme\\AppData\\Local\\Programs\\Python\\Python311\\Lib\\site-packages\\sklearn\\model_selection\\_validation.py\", line 895, in _fit_and_score\n",
      "    estimator.fit(X_train, y_train, **fit_params)\n",
      "  File \"c:\\Users\\matme\\AppData\\Local\\Programs\\Python\\Python311\\Lib\\site-packages\\sklearn\\base.py\", line 1467, in wrapper\n",
      "    estimator._validate_params()\n",
      "  File \"c:\\Users\\matme\\AppData\\Local\\Programs\\Python\\Python311\\Lib\\site-packages\\sklearn\\base.py\", line 666, in _validate_params\n",
      "    validate_parameter_constraints(\n",
      "  File \"c:\\Users\\matme\\AppData\\Local\\Programs\\Python\\Python311\\Lib\\site-packages\\sklearn\\utils\\_param_validation.py\", line 95, in validate_parameter_constraints\n",
      "    raise InvalidParameterError(\n",
      "sklearn.utils._param_validation.InvalidParameterError: The 'max_features' parameter of RandomForestClassifier must be an int in the range [1, inf), a float in the range (0.0, 1.0], a str among {'sqrt', 'log2'} or None. Got 'auto' instead.\n",
      "\n",
      "  warnings.warn(some_fits_failed_message, FitFailedWarning)\n",
      "c:\\Users\\matme\\AppData\\Local\\Programs\\Python\\Python311\\Lib\\site-packages\\sklearn\\model_selection\\_search.py:1051: UserWarning: One or more of the test scores are non-finite: [       nan        nan        nan 0.61966643 0.61853433 0.61994868]\n",
      "  warnings.warn(\n"
     ]
    }
   ],
   "source": [
    "from sklearn.ensemble import RandomForestClassifier\n",
    "from sklearn.model_selection import GridSearchCV\n",
    "\n",
    "rf_parametros_grid = {\n",
    "    'n_estimators': [100,200,300],\n",
    "    'max_features': ['auto', 'sqrt']\n",
    "}\n",
    "\n",
    "rf_grid_search = GridSearchCV(RandomForestClassifier(random_state=0), rf_parametros_grid, cv=3, scoring='accuracy')\n",
    "rf_grid_search.fit(X_train_preparado, y_train)\n",
    "\n",
    "rf_params = rf_grid_search.best_params_\n",
    "rf_score = rf_grid_search.best_score_"
   ]
  },
  {
   "cell_type": "code",
   "execution_count": 22,
   "metadata": {},
   "outputs": [
    {
     "name": "stdout",
     "output_type": "stream",
     "text": [
      "Melhores parâmetros para RF: {'max_features': 'sqrt', 'n_estimators': 300}\n"
     ]
    }
   ],
   "source": [
    "print(f\"Melhores parâmetros para RF: {rf_params}\")"
   ]
  },
  {
   "cell_type": "code",
   "execution_count": 23,
   "metadata": {},
   "outputs": [
    {
     "name": "stdout",
     "output_type": "stream",
     "text": [
      "Acurácia para a RF: 0.64\n"
     ]
    }
   ],
   "source": [
    "rf_model = RandomForestClassifier(\n",
    "    n_estimators=rf_params['n_estimators'],\n",
    "    max_features=rf_params['max_features'],\n",
    "    random_state=0\n",
    ")\n",
    "\n",
    "rf_model.fit(X_train_preparado, y_train)\n",
    "\n",
    "rf_predictions = rf_model.predict(X_test_preparado)\n",
    "\n",
    "rf_test_accuracy = accuracy_score(y_test, rf_predictions)\n",
    "\n",
    "print(f\"Acurácia para a RF: {rf_test_accuracy:.2f}\")"
   ]
  }
 ],
 "metadata": {
  "kernelspec": {
   "display_name": "Python 3",
   "language": "python",
   "name": "python3"
  },
  "language_info": {
   "codemirror_mode": {
    "name": "ipython",
    "version": 3
   },
   "file_extension": ".py",
   "mimetype": "text/x-python",
   "name": "python",
   "nbconvert_exporter": "python",
   "pygments_lexer": "ipython3",
   "version": "3.11.5"
  }
 },
 "nbformat": 4,
 "nbformat_minor": 2
}
